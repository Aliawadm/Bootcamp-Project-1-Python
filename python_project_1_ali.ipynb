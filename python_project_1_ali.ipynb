{
 "cells": [
  {
   "cell_type": "code",
   "execution_count": 1,
   "id": "c72d0bc6-18c8-4f24-80ee-5191963a5b01",
   "metadata": {},
   "outputs": [],
   "source": [
    "import json\n",
    "\n",
    "def get_the_names(d):\n",
    "  x =list(d.values())\n",
    "  s = []\n",
    "  for i in range(0,len(x)):\n",
    "    s.append(x[i][0])\n",
    "  return s\n",
    "\n",
    "def find_key_by_value(dictionary, value):\n",
    "  for key, value in dictionary.items():\n",
    "    if value == value:\n",
    "      return key"
   ]
  },
  {
   "cell_type": "code",
   "execution_count": 4,
   "id": "657e1bcc-f3e3-4b6a-b244-438ac15da55f",
   "metadata": {},
   "outputs": [
    {
     "name": "stdout",
     "output_type": "stream",
     "text": [
      "\t \t \t \t \t \t \t**Welcome to Ali Hospital**\n",
      "\n"
     ]
    },
    {
     "name": "stdin",
     "output_type": "stream",
     "text": [
      "Please enter the number 1 if you are an existing patient,  the number 2 if you are a new patient, or the number 3 if you are a doctor working with us : 1\n",
      "Please enter the user name : mohammed\n",
      "Please enter the id : 7\n"
     ]
    },
    {
     "name": "stdout",
     "output_type": "stream",
     "text": [
      "Welcome mohammed\n"
     ]
    },
    {
     "name": "stdin",
     "output_type": "stream",
     "text": [
      "Would you like to schedule an appointment(y/n)?\n",
      " n\n",
      "Would you like to verify if you have an appointment(y/n)?\n",
      " y\n"
     ]
    },
    {
     "name": "stdout",
     "output_type": "stream",
     "text": [
      "Yes sir, you have an appointment today from 1 to 2\n"
     ]
    }
   ],
   "source": [
    "while(True):\n",
    "  print(\"\\t \\t \\t \\t \\t \\t \\t**Welcome to Ali Hospital**\\n\")\n",
    "  user = input(\"Please enter the number 1 if you are an existing patient,\\\n",
    "  the number 2 if you are a new patient, or the number 3 if you are a doctor working with us :\")\n",
    "  load_patient_db = lambda :dict(json.load(open('our_patient.json', 'r'))) #id ,[name, allergies,use medications]\n",
    "  load_appointment_db = lambda :dict(json.load(open('appointment_to_day.json', 'r')))\n",
    "  Doctors = {\n",
    "  1: [\"Ali\", 2000.40, \"Neurologists\", \"available\"],\n",
    "  2: [\"Aisha\", 3000.50, \"Cardiologists\", \"unavailable\"],\n",
    "  3: [\"Hamad\", 4000.60, \"Dermatologists\", \"available\"],\n",
    "  4: [\"Fatima\", 5000.70, \"Ophthalmologists\", \"available\"],\n",
    "  5: [\"Khaled\", 6000.80, \"Pediatricians\", \"available\"],\n",
    "  6: [\"Sarah\", 7000.90, \"Orthopedic Surgeons\", \"unavailable\"],\n",
    "  7: [\"Ahmed\", 8000.10, \"Psychiatrists\", \"available\"],\n",
    "}\n",
    "  global our_patient\n",
    "  our_patient =load_patient_db()\n",
    "  appointment_to_day =load_appointment_db()\n",
    "\n",
    "\n",
    "\n",
    "  if user == \"1\":\n",
    "    name = input(\"Please enter the user name :\")\n",
    "    id = input(\"Please enter the id :\")\n",
    "    x =get_the_names(our_patient)\n",
    "    if id in our_patient.keys() and name in x:\n",
    "      print(f\"Welcome {name}\")\n",
    "      schedule =input(\"Would you like to schedule an appointment(y/n)?\\n\")\n",
    "      if schedule==\"y\":\n",
    "        print(\"these are the available appointments:\")\n",
    "        c=1\n",
    "        for i in appointment_to_day.keys():\n",
    "          if appointment_to_day[i] == \"\":\n",
    "            print(f\"{c}. [{i}]\")\n",
    "            c=c+1\n",
    "        num_su=input(\"Please enter the time here: \")\n",
    "        appointment_to_day[num_su]=name\n",
    "        json.dump(appointment_to_day, open('appointment_to_day.json', 'w'))\n",
    "        print(\"The appointment has been successfully scheduled. We look forward to meeting you soon.\")\n",
    "        break\n",
    "\n",
    "      if schedule==\"n\":\n",
    "        verify = input(\"Would you like to verify if you have an appointment(y/n)?\\n\")\n",
    "        if verify ==\"y\":\n",
    "          if name in appointment_to_day.values():\n",
    "            s =find_key_by_value(appointment_to_day,name)\n",
    "            print(f\"Yes sir, you have an appointment today from {s}\")\n",
    "            break\n",
    "        else:\n",
    "          break\n",
    "\n",
    "\n",
    "  elif user == \"2\":\n",
    "    ss =1\n",
    "    ss +=len(our_patient.keys())\n",
    "    patient_name = input(\"your name :\")\n",
    "    patient_allergies =input(\"Are you allergic to anything?\\n\")\n",
    "    patient_medications =input(\"Do you use any kind of medications?\\n\")\n",
    "    our_patient[ss] = [patient_name, patient_allergies, patient_medications]\n",
    "    json.dump(our_patient, open('our_patient.json', 'w'))\n",
    "    print(f\"you user name is {patient_name}\\nyou ID is {ss}\")\n",
    "    print(\"Thank you for joining us\")\n",
    "    break\n",
    "\n",
    "\n",
    "  elif user == \"3\":\n",
    "    name = input(\"Please enter the user name :\")\n",
    "    id = input(\"Please enter the id :\")\n",
    "    x =get_the_names(Doctors)\n",
    "    if id in our_patient.keys() and name in x:\n",
    "      print(f\"Welcome doctor {name}\")\n",
    "      user = input(\"Would you like to display your information(y/n)?\")\n",
    "      if user == 'y':\n",
    "        print(f\"name doctor {name}\")\n",
    "        print(f\"Your salary is {Doctors[int(id)][1]}\")\n",
    "        print(f\"Your health specialty is {Doctors[int(id)][2]}\")\n",
    "        print(f\"You status is {Doctors[int(id)][3]} to work\")\n",
    "        user =input(\"Would you like to change status(y/n)?\")\n",
    "        if user == 'y':\n",
    "          user = input(\"Please enter you now status(av/not):\")\n",
    "          if user == \"av\":\n",
    "            Doctors[int(id)][3] = \"available\"\n",
    "          elif user == \"not\":\n",
    "            Doctors[int(id)][3] = \"unavailable\"\n",
    "          else:\n",
    "            print(\"Invalid input!!\")\n",
    "            break\n",
    "          \n",
    "      user = input(\"would you like to view patients appointments information(y/n)?\")\n",
    "      if user == 'y':\n",
    "        x = list(appointment_to_day.keys())\n",
    "        w=''\n",
    "        for i in range(0,len(appointment_to_day)):\n",
    "          if appointment_to_day[x[i]] != \"\":\n",
    "            print(\"patient name :\",appointment_to_day[x[i]],end=\"\")\n",
    "            print(\"\\tappointment time :\",x[i])\n",
    "            w=w+str(\"patient name :\"+appointment_to_day[x[i]]+\"\\tappointment time :\"+x[i]+\"\\n\")\n",
    "        m=open(\"appointment_to_day.txt\",\"w\")\n",
    "        m.write(w)\n",
    "        break\n",
    "      else:\n",
    "        break\n",
    "          "
   ]
  },
  {
   "cell_type": "code",
   "execution_count": null,
   "id": "27105d3a-8c7e-482b-8317-034fb3ab5217",
   "metadata": {},
   "outputs": [],
   "source": []
  }
 ],
 "metadata": {
  "kernelspec": {
   "display_name": "Python 3 (ipykernel)",
   "language": "python",
   "name": "python3"
  },
  "language_info": {
   "codemirror_mode": {
    "name": "ipython",
    "version": 3
   },
   "file_extension": ".py",
   "mimetype": "text/x-python",
   "name": "python",
   "nbconvert_exporter": "python",
   "pygments_lexer": "ipython3",
   "version": "3.12.0"
  }
 },
 "nbformat": 4,
 "nbformat_minor": 5
}
